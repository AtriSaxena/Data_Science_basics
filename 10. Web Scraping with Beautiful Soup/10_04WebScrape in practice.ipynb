{
 "cells": [
  {
   "cell_type": "code",
   "execution_count": 2,
   "metadata": {},
   "outputs": [],
   "source": [
    "from bs4 import BeautifulSoup\n",
    "import urllib\n",
    "import re"
   ]
  },
  {
   "cell_type": "code",
   "execution_count": 14,
   "metadata": {},
   "outputs": [],
   "source": [
    "r=urllib.request.urlopen('https://en.wikibooks.org/wiki/Statistics/Data_Analysis/Data_Cleaning').read()\n",
    "soup=BeautifulSoup(r,'lxml')"
   ]
  },
  {
   "cell_type": "code",
   "execution_count": 16,
   "metadata": {},
   "outputs": [
    {
     "name": "stdout",
     "output_type": "stream",
     "text": [
      "<!DOCTYPE html>\n",
      "<html class=\"client-nojs\" dir=\"ltr\" lang=\"en\">\n",
      " <head>\n",
      "  <meta charset=\"utf-8\"/>\n",
      "  <\n"
     ]
    }
   ],
   "source": [
    "#Scrapping a webpage & saving the rsult\n",
    "print(soup.prettify()[0:100])"
   ]
  },
  {
   "cell_type": "code",
   "execution_count": 17,
   "metadata": {},
   "outputs": [
    {
     "name": "stdout",
     "output_type": "stream",
     "text": [
      "None\n",
      "/wiki/Statistics\n",
      "/wiki/Statistics/Data_Analysis\n",
      "/wiki/Wikibooks:REVIEW\n",
      "#mw-head\n",
      "#p-search\n",
      "/w/index.php?title=Statistics/Data_Analysis/Data_Cleaning&action=edit&section=1\n",
      "https://en.wikibooks.org/w/index.php?title=Statistics/Data_Analysis/Data_Cleaning&oldid=3147507\n",
      "/wiki/Special:Categories\n",
      "/wiki/Category:Statistics\n",
      "/wiki/Special:MyTalk\n",
      "/wiki/Special:MyContributions\n",
      "/w/index.php?title=Special:CreateAccount&returnto=Statistics%2FData+Analysis%2FData+Cleaning\n",
      "/w/index.php?title=Special:UserLogin&returnto=Statistics%2FData+Analysis%2FData+Cleaning\n",
      "/wiki/Statistics/Data_Analysis/Data_Cleaning\n",
      "/w/index.php?title=Talk:Statistics/Data_Analysis/Data_Cleaning&action=edit&redlink=1\n",
      "/wiki/Statistics/Data_Analysis/Data_Cleaning\n",
      "/w/index.php?title=Statistics/Data_Analysis/Data_Cleaning&action=edit\n",
      "/w/index.php?title=Statistics/Data_Analysis/Data_Cleaning&action=history\n",
      "/wiki/Main_Page\n",
      "/wiki/Main_Page\n",
      "/wiki/Help:Contents\n",
      "/wiki/Wikibooks:Card_Catalog_Office\n",
      "/wiki/Cookbook:Table_of_Contents\n",
      "/wiki/Wikijunior\n",
      "/wiki/Wikibooks:Featured_books\n",
      "/wiki/Special:RecentChanges\n",
      "//donate.wikimedia.org/wiki/Special:FundraiserRedirector?utm_source=donate&utm_medium=sidebar&utm_campaign=C13_en.wikibooks.org&uselang=en\n",
      "/wiki/Special:RandomRootpage\n",
      "/wiki/Using_Wikibooks\n",
      "/wiki/Wikibooks:Reading_room\n",
      "/wiki/Wikibooks:Community_Portal\n",
      "/wiki/Wikibooks:Reading_room/Bulletin_Board\n",
      "/wiki/Wikibooks:Maintenance\n",
      "/wiki/Wikibooks:Policies_and_guidelines\n",
      "/wiki/Wikibooks:Contact_us\n",
      "/wiki/Special:WhatLinksHere/Statistics/Data_Analysis/Data_Cleaning\n",
      "/wiki/Special:RecentChangesLinked/Statistics/Data_Analysis/Data_Cleaning\n",
      "//commons.wikimedia.org/wiki/Special:UploadWizard?uselang=en\n",
      "/wiki/Special:SpecialPages\n",
      "/w/index.php?title=Statistics/Data_Analysis/Data_Cleaning&oldid=3147507\n",
      "/w/index.php?title=Statistics/Data_Analysis/Data_Cleaning&action=info\n",
      "/w/index.php?title=Special:CiteThisPage&page=Statistics%2FData_Analysis%2FData_Cleaning&id=3147507\n",
      "https://www.wikidata.org/wiki/Special:NewItem?site=enwikibooks&page=Statistics%2FData+Analysis%2FData+Cleaning\n",
      "https://en.wikipedia.org/wiki/Main_Page\n",
      "https://en.wikiversity.org/wiki/Wikiversity:Main_Page\n",
      "https://en.wiktionary.org/wiki/Wiktionary:Main_Page\n",
      "https://en.wikiquote.org/wiki/Main_Page\n",
      "https://en.wikisource.org/wiki/Main_Page\n",
      "https://en.wikinews.org/wiki/Main_Page\n",
      "https://en.wikivoyage.org/wiki/Main_Page\n",
      "https://commons.wikimedia.org/wiki/Main_Page\n",
      "https://www.wikidata.org/wiki/Wikidata:Main_Page\n",
      "/w/index.php?title=Special:Book&bookcmd=book_creator&referer=Statistics%2FData+Analysis%2FData+Cleaning\n",
      "/w/index.php?title=Special:ElectronPdf&page=Statistics%2FData+Analysis%2FData+Cleaning&action=show-selection-screen&coll-download-url=%2Fw%2Findex.php%3Ftitle%3DSpecial%3ABook%26bookcmd%3Drender_article%26arttitle%3DStatistics%252FData%2BAnalysis%252FData%2BCleaning%26returnto%3DStatistics%252FData%2BAnalysis%252FData%2BCleaning%26oldid%3D3147507%26writer%3Drdf2latex\n",
      "/w/index.php?title=Statistics/Data_Analysis/Data_Cleaning&printable=yes\n",
      "//creativecommons.org/licenses/by-sa/3.0/\n",
      "//wikimediafoundation.org/wiki/Terms_of_Use\n",
      "//wikimediafoundation.org/wiki/Privacy_policy\n",
      "https://wikimediafoundation.org/wiki/Privacy_policy\n",
      "/wiki/Wikibooks:Welcome\n",
      "/wiki/Wikibooks:General_disclaimer\n",
      "https://www.mediawiki.org/wiki/Special:MyLanguage/How_to_contribute\n",
      "https://wikimediafoundation.org/wiki/Cookie_statement\n",
      "//en.m.wikibooks.org/w/index.php?title=Statistics/Data_Analysis/Data_Cleaning&mobileaction=toggle_view_mobile\n",
      "https://wikimediafoundation.org/\n",
      "//www.mediawiki.org/\n"
     ]
    }
   ],
   "source": [
    "for link in soup.find_all('a'):\n",
    "    print(link.get('href'))"
   ]
  },
  {
   "cell_type": "code",
   "execution_count": 19,
   "metadata": {},
   "outputs": [
    {
     "name": "stdout",
     "output_type": "stream",
     "text": [
      "https://en.wikibooks.org/w/index.php?title=Statistics/Data_Analysis/Data_Cleaning&oldid=3147507\n",
      "https://www.wikidata.org/wiki/Special:NewItem?site=enwikibooks&page=Statistics%2FData+Analysis%2FData+Cleaning\n",
      "https://en.wikipedia.org/wiki/Main_Page\n",
      "https://en.wikiversity.org/wiki/Wikiversity:Main_Page\n",
      "https://en.wiktionary.org/wiki/Wiktionary:Main_Page\n",
      "https://en.wikiquote.org/wiki/Main_Page\n",
      "https://en.wikisource.org/wiki/Main_Page\n",
      "https://en.wikinews.org/wiki/Main_Page\n",
      "https://en.wikivoyage.org/wiki/Main_Page\n",
      "https://commons.wikimedia.org/wiki/Main_Page\n",
      "https://www.wikidata.org/wiki/Wikidata:Main_Page\n",
      "https://wikimediafoundation.org/wiki/Privacy_policy\n",
      "https://www.mediawiki.org/wiki/Special:MyLanguage/How_to_contribute\n",
      "https://wikimediafoundation.org/wiki/Cookie_statement\n",
      "https://wikimediafoundation.org/\n"
     ]
    }
   ],
   "source": [
    "for link in soup.find_all('a',attrs={'href':re.compile(\"^http\")}): # LInks with only href\n",
    "    print(link.get('href'))"
   ]
  },
  {
   "cell_type": "code",
   "execution_count": 33,
   "metadata": {},
   "outputs": [
    {
     "name": "stdout",
     "output_type": "stream",
     "text": [
      "https://en.wikibooks.org/w/index.php?title=Statistics/Data_Analysis/Data_Cleaning&oldid=3147507\n",
      "https://www.wikidata.org/wiki/Special:NewItem?site=enwikibooks&page=Statistics%2FData+Analysis%2FData+Cleaning\n",
      "https://en.wikipedia.org/wiki/Main_Page\n",
      "https://en.wikiversity.org/wiki/Wikiversity:Main_Page\n",
      "https://en.wiktionary.org/wiki/Wiktionary:Main_Page\n",
      "https://en.wikiquote.org/wiki/Main_Page\n",
      "https://en.wikisource.org/wiki/Main_Page\n",
      "https://en.wikinews.org/wiki/Main_Page\n",
      "https://en.wikivoyage.org/wiki/Main_Page\n",
      "https://commons.wikimedia.org/wiki/Main_Page\n",
      "https://www.wikidata.org/wiki/Wikidata:Main_Page\n",
      "https://wikimediafoundation.org/wiki/Privacy_policy\n",
      "https://www.mediawiki.org/wiki/Special:MyLanguage/How_to_contribute\n",
      "https://wikimediafoundation.org/wiki/Cookie_statement\n",
      "https://wikimediafoundation.org/\n"
     ]
    }
   ],
   "source": [
    "file=open('parsed_data.txt','w')\n",
    "for link in soup.find_all('a',attrs={'href':re.compile(\"^http\")}): # LInks with only href\n",
    "    soup_link=str(link.get('href'))\n",
    "    print(soup_link)\n",
    "    file.write(soup_link+\"\\n\")\n",
    "    file.flush()\n",
    "file.close()"
   ]
  },
  {
   "cell_type": "code",
   "execution_count": 30,
   "metadata": {},
   "outputs": [
    {
     "data": {
      "text/plain": [
       "'C:\\\\Users\\\\BoNd'"
      ]
     },
     "execution_count": 30,
     "metadata": {},
     "output_type": "execute_result"
    }
   ],
   "source": [
    "%pwd"
   ]
  }
 ],
 "metadata": {
  "kernelspec": {
   "display_name": "Python 3",
   "language": "python",
   "name": "python3"
  },
  "language_info": {
   "codemirror_mode": {
    "name": "ipython",
    "version": 3
   },
   "file_extension": ".py",
   "mimetype": "text/x-python",
   "name": "python",
   "nbconvert_exporter": "python",
   "pygments_lexer": "ipython3",
   "version": "3.6.1"
  }
 },
 "nbformat": 4,
 "nbformat_minor": 2
}
