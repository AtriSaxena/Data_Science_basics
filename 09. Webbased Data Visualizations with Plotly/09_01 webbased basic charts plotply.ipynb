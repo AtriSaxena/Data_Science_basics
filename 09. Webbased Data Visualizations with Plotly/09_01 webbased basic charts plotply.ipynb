{
 "cells": [
  {
   "cell_type": "code",
   "execution_count": 1,
   "metadata": {},
   "outputs": [
    {
     "name": "stdout",
     "output_type": "stream",
     "text": [
      "Collecting Plotly\n",
      "  Downloading plotly-2.0.15.tar.gz (1.0MB)\n",
      "Requirement already satisfied: decorator>=4.0.6 in c:\\users\\bond\\anaconda3\\lib\\site-packages (from Plotly)\n",
      "Requirement already satisfied: nbformat>=4.2 in c:\\users\\bond\\anaconda3\\lib\\site-packages (from Plotly)\n",
      "Requirement already satisfied: pytz in c:\\users\\bond\\anaconda3\\lib\\site-packages (from Plotly)\n",
      "Requirement already satisfied: requests in c:\\users\\bond\\anaconda3\\lib\\site-packages (from Plotly)\n",
      "Requirement already satisfied: six in c:\\users\\bond\\anaconda3\\lib\\site-packages (from Plotly)\n",
      "Building wheels for collected packages: Plotly\n",
      "  Running setup.py bdist_wheel for Plotly: started\n",
      "  Running setup.py bdist_wheel for Plotly: finished with status 'done'\n",
      "  Stored in directory: C:\\Users\\BoNd\\AppData\\Local\\pip\\Cache\\wheels\\c9\\c4\\00\\a80b040dd8c9301d29f7153881c96edf1cd8561977ec440941\n",
      "Successfully built Plotly\n",
      "Installing collected packages: Plotly\n",
      "Successfully installed Plotly-2.0.15\n"
     ]
    }
   ],
   "source": [
    "#setup plotly\n",
    "! pip install Plotly"
   ]
  },
  {
   "cell_type": "code",
   "execution_count": 2,
   "metadata": {},
   "outputs": [
    {
     "name": "stdout",
     "output_type": "stream",
     "text": [
      "Collecting cufflinks\n",
      "  Downloading cufflinks-0.12.0.tar.gz (48kB)\n",
      "Requirement already satisfied: pandas in c:\\users\\bond\\anaconda3\\lib\\site-packages (from cufflinks)\n",
      "Requirement already satisfied: plotly>=2.0.0 in c:\\users\\bond\\anaconda3\\lib\\site-packages (from cufflinks)\n",
      "Collecting colorlover>=0.2 (from cufflinks)\n",
      "  Downloading colorlover-0.2.1.tar.gz\n",
      "Requirement already satisfied: python-dateutil>=2 in c:\\users\\bond\\anaconda3\\lib\\site-packages (from pandas->cufflinks)\n",
      "Requirement already satisfied: pytz>=2011k in c:\\users\\bond\\anaconda3\\lib\\site-packages (from pandas->cufflinks)\n",
      "Requirement already satisfied: numpy>=1.7.0 in c:\\users\\bond\\anaconda3\\lib\\site-packages (from pandas->cufflinks)\n",
      "Requirement already satisfied: six in c:\\users\\bond\\anaconda3\\lib\\site-packages (from plotly>=2.0.0->cufflinks)\n",
      "Requirement already satisfied: requests in c:\\users\\bond\\anaconda3\\lib\\site-packages (from plotly>=2.0.0->cufflinks)\n",
      "Requirement already satisfied: nbformat>=4.2 in c:\\users\\bond\\anaconda3\\lib\\site-packages (from plotly>=2.0.0->cufflinks)\n",
      "Requirement already satisfied: decorator>=4.0.6 in c:\\users\\bond\\anaconda3\\lib\\site-packages (from plotly>=2.0.0->cufflinks)\n",
      "Building wheels for collected packages: cufflinks, colorlover\n",
      "  Running setup.py bdist_wheel for cufflinks: started\n",
      "  Running setup.py bdist_wheel for cufflinks: finished with status 'done'\n",
      "  Stored in directory: C:\\Users\\BoNd\\AppData\\Local\\pip\\Cache\\wheels\\1d\\79\\29\\bb076c9ab0bd7a932c33e7b6c7eb5d00d84001076f16549ec0\n",
      "  Running setup.py bdist_wheel for colorlover: started\n",
      "  Running setup.py bdist_wheel for colorlover: finished with status 'done'\n",
      "  Stored in directory: C:\\Users\\BoNd\\AppData\\Local\\pip\\Cache\\wheels\\b8\\b0\\18\\76d3f3088cc73950ed1aa44ea074b93ed37309fea57dec78dc\n",
      "Successfully built cufflinks colorlover\n",
      "Installing collected packages: colorlover, cufflinks\n",
      "Successfully installed colorlover-0.2.1 cufflinks-0.12.0\n"
     ]
    }
   ],
   "source": [
    "! pip install cufflinks"
   ]
  },
  {
   "cell_type": "code",
   "execution_count": 5,
   "metadata": {},
   "outputs": [],
   "source": [
    "import numpy as np\n",
    "import pandas as pd\n",
    "import cufflinks as cf\n",
    "\n",
    "import plotly.plotly as py\n",
    "import plotly.tools as tls\n",
    "import plotly.graph_objs as go"
   ]
  },
  {
   "cell_type": "code",
   "execution_count": 6,
   "metadata": {
    "collapsed": true
   },
   "outputs": [],
   "source": [
    "tls.set_credentials_file(username='Atri', api_key='***********')"
   ]
  },
  {
   "cell_type": "code",
   "execution_count": 8,
   "metadata": {},
   "outputs": [
    {
     "name": "stdout",
     "output_type": "stream",
     "text": [
      "High five! You successfully sent some data to your account on plotly. View your plot in your browser at https://plot.ly/~Atri/0 or inside your plot.ly account where it is named 'basic_line_chart'\n"
     ]
    },
    {
     "data": {
      "text/html": [
       "<iframe id=\"igraph\" scrolling=\"no\" style=\"border:none;\" seamless=\"seamless\" src=\"https://plot.ly/~Atri/0.embed\" height=\"525px\" width=\"100%\"></iframe>"
      ],
      "text/plain": [
       "<plotly.tools.PlotlyDisplay object>"
      ]
     },
     "execution_count": 8,
     "metadata": {},
     "output_type": "execute_result"
    }
   ],
   "source": [
    "#Create Line charts\n",
    "a= np.linspace(start=0,stop=36,num=36)\n",
    "\n",
    "np.random.seed(25)\n",
    "b= np.random.uniform(low=0.0,high=1.0,size=36)\n",
    "trace=go.Scatter(x=a,y=b)\n",
    "data=[trace]\n",
    "\n",
    "py.iplot(data,filename='basic_line_chart')"
   ]
  },
  {
   "cell_type": "code",
   "execution_count": 10,
   "metadata": {},
   "outputs": [
    {
     "name": "stdout",
     "output_type": "stream",
     "text": [
      "{'title': 'Double Line Chart', 'xaxis': {'title': 'x-axis'}, 'yaxis': {'title': 'y-axis'}}\n"
     ]
    }
   ],
   "source": [
    "#A Line chart with more than one variable plotted\n",
    "\n",
    "x = [1,2,3,4,5,6,7,8,9]\n",
    "y = [1,2,3,4,0,4,3,2,1]\n",
    "z = [10,9,8,7,6,5,4,3,2,1]\n",
    "\n",
    "trace0=go.Scatter(x=x, y=y, name='List Object', line=dict(width=5))\n",
    "trace1=go.Scatter(x=x, y=z, name='List Object 2', line=dict(width=10))\n",
    "\n",
    "data=[trace0,trace1]\n",
    "\n",
    "layout=dict(title='Double Line Chart', xaxis=dict(title='x-axis'), yaxis=dict(title='y-axis'))\n",
    "print(layout)"
   ]
  },
  {
   "cell_type": "code",
   "execution_count": 11,
   "metadata": {},
   "outputs": [
    {
     "name": "stdout",
     "output_type": "stream",
     "text": [
      "{'data': [{'type': 'scatter', 'x': [1, 2, 3, 4, 5, 6, 7, 8, 9], 'y': [1, 2, 3, 4, 0, 4, 3, 2, 1], 'name': 'List Object', 'line': {'width': 5}}, {'type': 'scatter', 'x': [1, 2, 3, 4, 5, 6, 7, 8, 9], 'y': [10, 9, 8, 7, 6, 5, 4, 3, 2, 1], 'name': 'List Object 2', 'line': {'width': 10}}], 'layout': {'title': 'Double Line Chart', 'xaxis': {'title': 'x-axis'}, 'yaxis': {'title': 'y-axis'}}}\n"
     ]
    }
   ],
   "source": [
    "fig= dict(data=data, layout=layout)\n",
    "print(fig)"
   ]
  },
  {
   "cell_type": "code",
   "execution_count": 13,
   "metadata": {},
   "outputs": [
    {
     "data": {
      "text/html": [
       "<iframe id=\"igraph\" scrolling=\"no\" style=\"border:none;\" seamless=\"seamless\" src=\"https://plot.ly/~Atri/4.embed\" height=\"525px\" width=\"100%\"></iframe>"
      ],
      "text/plain": [
       "<plotly.tools.PlotlyDisplay object>"
      ]
     },
     "execution_count": 13,
     "metadata": {},
     "output_type": "execute_result"
    }
   ],
   "source": [
    "py.iplot(fig,filename=\"styled-line-chart\")"
   ]
  },
  {
   "cell_type": "code",
   "execution_count": 14,
   "metadata": {},
   "outputs": [
    {
     "data": {
      "text/html": [
       "<iframe id=\"igraph\" scrolling=\"no\" style=\"border:none;\" seamless=\"seamless\" src=\"https://plot.ly/~Atri/6.embed\" height=\"525px\" width=\"100%\"></iframe>"
      ],
      "text/plain": [
       "<plotly.tools.PlotlyDisplay object>"
      ]
     },
     "execution_count": 14,
     "metadata": {},
     "output_type": "execute_result"
    }
   ],
   "source": [
    "#A Line chart from a pandas dataframe using cufflinks\n",
    "address=\"C:\\Data_jupyter\\mtcars.csv\"\n",
    "cars=pd.read_csv(address)\n",
    "cars.columns=['car_names','mpg','cyl','disp','hp','drat','wt','qsec','vs','am','gear','carb']\n",
    "\n",
    "df=cars[['cyl','wt','mpg']]\n",
    "layout=dict(title='Chart From Pandas DataFrame',xaxis=dict(title='x-axis'), yaxis=dict(title='y-axis'))\n",
    "\n",
    "df.iplot(filename='cf-Simple-line-chart', layout=layout)"
   ]
  },
  {
   "cell_type": "code",
   "execution_count": 16,
   "metadata": {},
   "outputs": [
    {
     "name": "stdout",
     "output_type": "stream",
     "text": [
      "[{'type': 'bar', 'x': [1, 2, 3, 4, 5, 6, 7, 8, 9, 10], 'y': [1, 2, 3, 4, 0.5, 4, 3, 2, 1]}]\n"
     ]
    }
   ],
   "source": [
    "#Creating bar charts\n",
    "\n",
    "data=[go.Bar(x=[1,2,3,4,5,6,7,8,9,10],y=[1,2,3,4,0.5,4,3,2,1])]\n",
    "print(data)\n"
   ]
  },
  {
   "cell_type": "code",
   "execution_count": 17,
   "metadata": {},
   "outputs": [
    {
     "data": {
      "text/html": [
       "<iframe id=\"igraph\" scrolling=\"no\" style=\"border:none;\" seamless=\"seamless\" src=\"https://plot.ly/~Atri/8.embed\" height=\"525px\" width=\"100%\"></iframe>"
      ],
      "text/plain": [
       "<plotly.tools.PlotlyDisplay object>"
      ]
     },
     "execution_count": 17,
     "metadata": {},
     "output_type": "execute_result"
    }
   ],
   "source": [
    "layout=dict(title=\"Simple bar chart\",\n",
    "           xaxis=dict(title=\"x-axis\"),\n",
    "           yaxis=dict(title=\"y-axis\"))\n",
    "\n",
    "py.iplot(data,layout=layout,filename='basic_bar_chart')"
   ]
  },
  {
   "cell_type": "code",
   "execution_count": 21,
   "metadata": {},
   "outputs": [
    {
     "name": "stdout",
     "output_type": "stream",
     "text": [
      "{'color': ['rgba(169,169,169,1)', 'rgba(255,160,122,1)', 'rgba(176,224,230,1),rgba(255,228,196,1)', 'rgba(189,183,107,1)', 'rgba(188,183,107,1)', 'rgba(188,143,143,1)', 'rgba(221,160,221,1)']}\n"
     ]
    }
   ],
   "source": [
    "#how to change colors in plotly\n",
    "\n",
    "color_theme=dict(color=['rgba(169,169,169,1)','rgba(255,160,122,1)','rgba(176,224,230,1),rgba(255,228,196,1)','rgba(189,183,107,1)','rgba(188,183,107,1)','rgba(188,143,143,1)','rgba(221,160,221,1)'])\n",
    "print(color_theme)"
   ]
  },
  {
   "cell_type": "code",
   "execution_count": 22,
   "metadata": {},
   "outputs": [
    {
     "data": {
      "text/html": [
       "<iframe id=\"igraph\" scrolling=\"no\" style=\"border:none;\" seamless=\"seamless\" src=\"https://plot.ly/~Atri/10.embed\" height=\"525px\" width=\"100%\"></iframe>"
      ],
      "text/plain": [
       "<plotly.tools.PlotlyDisplay object>"
      ]
     },
     "execution_count": 22,
     "metadata": {},
     "output_type": "execute_result"
    }
   ],
   "source": [
    "trace0=go.Bar(x=[1,2,3,4,5,6,7],y=[1,2,3,4,0.5,3,1],marker=color_theme)\n",
    "data=[trace0]\n",
    "layout=go.Layout(title='Custom_color')\n",
    "fig=go.Figure(data=data,layout=layout)\n",
    "\n",
    "py.iplot(fig,filename='color-bar-chart')"
   ]
  },
  {
   "cell_type": "code",
   "execution_count": 25,
   "metadata": {},
   "outputs": [
    {
     "data": {
      "text/html": [
       "<iframe id=\"igraph\" scrolling=\"no\" style=\"border:none;\" seamless=\"seamless\" src=\"https://plot.ly/~Atri/12.embed\" height=\"525px\" width=\"100%\"></iframe>"
      ],
      "text/plain": [
       "<plotly.tools.PlotlyDisplay object>"
      ]
     },
     "execution_count": 25,
     "metadata": {},
     "output_type": "execute_result"
    }
   ],
   "source": [
    "#Create a Pie Charts\n",
    "\n",
    "fig={'data':[{'labels':['bicycle','motorbike','car','van','stroller'],\n",
    "                 'values': [1,2,3,4,0.5],'type': 'pie'}],\n",
    "        'layout':{'title':'Simple Pie chart'}\n",
    "    }\n",
    "\n",
    "py.iplot(fig,filename=\"sample_pie_chart\")"
   ]
  }
 ],
 "metadata": {
  "kernelspec": {
   "display_name": "Python 3",
   "language": "python",
   "name": "python3"
  },
  "language_info": {
   "codemirror_mode": {
    "name": "ipython",
    "version": 3
   },
   "file_extension": ".py",
   "mimetype": "text/x-python",
   "name": "python",
   "nbconvert_exporter": "python",
   "pygments_lexer": "ipython3",
   "version": "3.6.1"
  }
 },
 "nbformat": 4,
 "nbformat_minor": 2
}
